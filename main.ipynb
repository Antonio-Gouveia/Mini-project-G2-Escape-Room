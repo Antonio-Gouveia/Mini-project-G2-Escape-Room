{
 "cells": [
  {
   "cell_type": "markdown",
   "metadata": {
    "colab": {
     "base_uri": "https://localhost:8080/"
    },
    "id": "0LXOKXIMTwFd",
    "outputId": "3d337756-1647-419c-d990-8d9b2c1db90b"
   },
   "source": [
    "# Mini project ESCAPE ROOM - Group 2\n",
    "\n",
    "This game was developed as a Python Analytics Quest as part of the DA IronHack bootcamp! The mission was: to code a text-based game, 'Escape Room', utilizing Python skills learned in the bootcamp and demonstrates concepts such as:\n",
    "\n",
    "- Data structures: dictionaries and lists to represent rooms, doors, keys, and relationships.\n",
    "- Function design and modularization → all game logic is stored in a separate `.py` file, imported into this notebook.\n",
    "- State management: the `game_state` dictionary tracks current room, collected keys, and progress.\n",
    "- User interactio: via `input()` choices to explore rooms and examine items.\n",
    "- Time control: using the `time` module to implement a 10-minute countdown timer.\n",
    "- Game loop logic: room exploration, item examination, and progression until escape or game over.\n",
    "\n",
    "### 🚪 Goal\n",
    "Your mission is simple:  \n",
    "**Find the right keys, unlock the doors, and escape the house before time runs out!**"
   ]
  },
  {
   "cell_type": "code",
   "execution_count": 6,
   "metadata": {},
   "outputs": [],
   "source": [
    "import copy\n",
    "import game_functions"
   ]
  },
  {
   "cell_type": "code",
   "execution_count": 7,
   "metadata": {},
   "outputs": [],
   "source": [
    "start_time = None"
   ]
  },
  {
   "cell_type": "code",
   "execution_count": 8,
   "metadata": {},
   "outputs": [],
   "source": [
    "game_functions.game_state = copy.deepcopy(game_functions.INIT_GAME_STATE)"
   ]
  },
  {
   "cell_type": "code",
   "execution_count": 9,
   "metadata": {},
   "outputs": [
    {
     "name": "stdout",
     "output_type": "stream",
     "text": [
      "You wake up on a couch and find yourself in a strange house with no windows that you never been before.\n",
      "You don't remember why you are here and what had happened before. You feel some unknown danger is approaching..\n",
      "You must get out of the house, NOW!\n",
      "You are now in GAME ROOM\n",
      "\n",
      "\n",
      "⏱️ Timer started! You have 10 minutes to escape!\n",
      "👻 Type 'Exit' if you are too afraid!\n",
      "⌛ Time remaining: 10:00\n",
      "\n",
      "\n",
      "You explore the room 👣 This is GAME ROOM. 👀 You find COUCH, PIANO, DOOR A\n"
     ]
    },
    {
     "name": "stdin",
     "output_type": "stream",
     "text": [
      "What would you like to examine?🔎  couch\n"
     ]
    },
    {
     "name": "stdout",
     "output_type": "stream",
     "text": [
      "You examine COUCH. There isn't anything interesting about it 🤷‍♂️.\n"
     ]
    },
    {
     "name": "stdin",
     "output_type": "stream",
     "text": [
      "What would you like to examine?🔎  piano\n"
     ]
    },
    {
     "name": "stdout",
     "output_type": "stream",
     "text": [
      "You examine PIANO. You find KEY FOR DOOR A🗝.\n",
      "📦 Inventory: 1 key(s) — KEY FOR DOOR A\n"
     ]
    },
    {
     "name": "stdin",
     "output_type": "stream",
     "text": [
      "What would you like to examine?🔎  door a\n",
      "You don't know what's behind that door😨. Are you sure you want to open it to find out? Enter 'yes' or 'no'. yes\n"
     ]
    },
    {
     "name": "stdout",
     "output_type": "stream",
     "text": [
      "You are now in BEDROOM 1\n",
      "⌛ Time remaining: 09:29\n",
      "\n",
      "\n",
      "You explore the room 👣 This is BEDROOM 1. 👀 You find DOOR A, DOOR B, DOOR C, QUEEN BED\n"
     ]
    },
    {
     "name": "stdin",
     "output_type": "stream",
     "text": [
      "What would you like to examine?🔎  queen bed\n"
     ]
    },
    {
     "name": "stdout",
     "output_type": "stream",
     "text": [
      "You examine QUEEN BED. You find KEY FOR DOOR B🗝.\n",
      "📦 Inventory: 2 key(s) — KEY FOR DOOR A, KEY FOR DOOR B\n"
     ]
    },
    {
     "name": "stdin",
     "output_type": "stream",
     "text": [
      "What would you like to examine?🔎  door b\n",
      "You don't know what's behind that door😨. Are you sure you want to open it to find out? Enter 'yes' or 'no'. yes\n"
     ]
    },
    {
     "name": "stdout",
     "output_type": "stream",
     "text": [
      "You are now in BEDROOM 2\n",
      "⌛ Time remaining: 08:50\n",
      "\n",
      "\n",
      "You explore the room 👣 This is BEDROOM 2. 👀 You find DOOR B, DOUBLE BED, DRESSER\n"
     ]
    },
    {
     "name": "stdin",
     "output_type": "stream",
     "text": [
      "What would you like to examine?🔎  dresser\n"
     ]
    },
    {
     "name": "stdout",
     "output_type": "stream",
     "text": [
      "You examine DRESSER. You find KEY FOR DOOR D🗝.\n",
      "📦 Inventory: 3 key(s) — KEY FOR DOOR A, KEY FOR DOOR B, KEY FOR DOOR D\n"
     ]
    },
    {
     "name": "stdin",
     "output_type": "stream",
     "text": [
      "What would you like to examine?🔎  double bed\n"
     ]
    },
    {
     "name": "stdout",
     "output_type": "stream",
     "text": [
      "You examine DOUBLE BED. You find KEY FOR DOOR C🗝.\n",
      "📦 Inventory: 4 key(s) — KEY FOR DOOR A, KEY FOR DOOR B, KEY FOR DOOR D, KEY FOR DOOR C\n"
     ]
    },
    {
     "name": "stdin",
     "output_type": "stream",
     "text": [
      "What would you like to examine?🔎  door b\n",
      "You don't know what's behind that door😨. Are you sure you want to open it to find out? Enter 'yes' or 'no'. yes\n"
     ]
    },
    {
     "name": "stdout",
     "output_type": "stream",
     "text": [
      "You are now in BEDROOM 1\n",
      "⌛ Time remaining: 07:55\n",
      "\n",
      "\n",
      "You explore the room 👣 This is BEDROOM 1. 👀 You find DOOR A, DOOR B, DOOR C, QUEEN BED\n"
     ]
    },
    {
     "name": "stdin",
     "output_type": "stream",
     "text": [
      "What would you like to examine?🔎  door c\n",
      "You don't know what's behind that door😨. Are you sure you want to open it to find out? Enter 'yes' or 'no'. yes\n"
     ]
    },
    {
     "name": "stdout",
     "output_type": "stream",
     "text": [
      "You are now in LIVING ROOM\n",
      "⌛ Time remaining: 07:41\n",
      "\n",
      "\n",
      "You explore the room 👣 This is LIVING ROOM. 👀 You find DOOR C, DOOR D, DINING TABLE\n"
     ]
    },
    {
     "name": "stdin",
     "output_type": "stream",
     "text": [
      "What would you like to examine?🔎  door d\n",
      "You don't know what's behind that door😨. Are you sure you want to open it to find out? Enter 'yes' or 'no'. yes\n"
     ]
    },
    {
     "name": "stdout",
     "output_type": "stream",
     "text": [
      "\n",
      "🎉 Congrats! You escaped the room!\n"
     ]
    }
   ],
   "source": [
    "game_functions.start_game()\n"
   ]
  },
  {
   "cell_type": "code",
   "execution_count": null,
   "metadata": {},
   "outputs": [],
   "source": []
  }
 ],
 "metadata": {
  "colab": {
   "provenance": []
  },
  "kernelspec": {
   "display_name": "Python [conda env:base] *",
   "language": "python",
   "name": "conda-base-py"
  },
  "language_info": {
   "codemirror_mode": {
    "name": "ipython",
    "version": 3
   },
   "file_extension": ".py",
   "mimetype": "text/x-python",
   "name": "python",
   "nbconvert_exporter": "python",
   "pygments_lexer": "ipython3",
   "version": "3.13.5"
  }
 },
 "nbformat": 4,
 "nbformat_minor": 4
}
